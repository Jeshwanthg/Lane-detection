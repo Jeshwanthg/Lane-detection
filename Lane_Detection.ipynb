# 🛣️ Lane Detection - Step-by-Step Notebook

import cv2
import numpy as np
import matplotlib.pyplot as plt

# Utility function to show images inline (useful in notebooks)
def show_image(title, image):
    plt.figure(figsize=(10,5))
    if len(image.shape) == 2:
        plt.imshow(image, cmap='gray')
    else:
        image = cv2.cvtColor(image, cv2.COLOR_BGR2RGB)
        plt.imshow(image)
    plt.title(title)
    plt.axis('off')
    plt.show()

# Load a single frame (simulate from video)
frame = cv2.imread("test_frame.jpg")
frame = cv2.resize(frame, (640, 480))
show_image("Original Frame", frame)

# Step 1: Convert to Grayscale
gray = cv2.cvtColor(frame, cv2.COLOR_BGR2GRAY)
show_image("Grayscale", gray)

# Step 2: Gaussian Blur to reduce noise
blur = cv2.GaussianBlur(gray, (5, 5), 0)
show_image("Blurred", blur)

# Step 3: Canny Edge Detection
edges = cv2.Canny(blur, 50, 150)
show_image("Canny Edges", edges)

# Step 4: Region of Interest Mask
def region_of_interest(image):
    height, width = image.shape
    mask = np.zeros_like(image)

    triangle = np.array([[
        (int(0.1 * width), height),
        (int(0.9 * width), height),
        (int(0.5 * width), int(0.6 * height))
    ]], np.int32)

    cv2.fillPoly(mask, triangle, 255)
    masked_image = cv2.bitwise_and(image, mask)
    return masked_image

roi = region_of_interest(edges)
show_image("Region of Interest", roi)

# Step 5: Detect lines using Hough Transform
def detect_lines(image, original):
    lines = cv2.HoughLinesP(image, 1, np.pi/180, 50, minLineLength=100, maxLineGap=50)
    line_image = np.zeros_like(original)

    if lines is not None:
        for line in lines:
            x1, y1, x2, y2 = line[0]
            cv2.line(line_image, (x1, y1), (x2, y2), (0, 255, 0), 5)

    combined = cv2.addWeighted(original, 0.8, line_image, 1, 1)
    return combined

result = detect_lines(roi, frame)
show_image("Final Lane Detection", result)
